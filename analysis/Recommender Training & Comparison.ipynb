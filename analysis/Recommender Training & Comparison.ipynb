{
 "metadata": {
  "name": "",
  "signature": "sha256:bc81a52f803a188614e2eef6c18e541c4d6a43dc881f3abbf6d5ef6120623336"
 },
 "nbformat": 3,
 "nbformat_minor": 0,
 "worksheets": [
  {
   "cells": [
    {
     "cell_type": "code",
     "collapsed": false,
     "input": [
      "import graphlab as gl"
     ],
     "language": "python",
     "metadata": {},
     "outputs": [],
     "prompt_number": 1
    },
    {
     "cell_type": "code",
     "collapsed": false,
     "input": [
      "import os"
     ],
     "language": "python",
     "metadata": {},
     "outputs": [],
     "prompt_number": 2
    },
    {
     "cell_type": "code",
     "collapsed": false,
     "input": [
      "data_dir = 'data'"
     ],
     "language": "python",
     "metadata": {},
     "outputs": [],
     "prompt_number": 3
    },
    {
     "cell_type": "code",
     "collapsed": false,
     "input": [
      "records = gl.SFrame.read_csv(os.path.join(data_dir, 'overall_ratings_u20_b20.txt'), header=False, delimiter=' ', verbose=False)\n",
      "records.rename({'X1':'user_id', 'X2':'item_id', 'X3':'rating'})"
     ],
     "language": "python",
     "metadata": {},
     "outputs": [
      {
       "output_type": "stream",
       "stream": "stderr",
       "text": [
        "[INFO] Start server at: ipc:///tmp/graphlab_server-10396 - Server binary: /Users/xray1110/Env/graphlab/lib/python2.7/site-packages/graphlab/unity_server - Server log: /tmp/graphlab_server_1430246129.log\n"
       ]
      },
      {
       "output_type": "stream",
       "stream": "stderr",
       "text": [
        "[INFO] GraphLab Server Version: 1.0.1\n"
       ]
      },
      {
       "html": [
        "<pre>PROGRESS: Finished parsing file /Users/xray1110/Google Drive/Courses/2014_fall/Intro to Data Science/project/data/overall_ratings_u20_b20.txt</pre>"
       ],
       "metadata": {},
       "output_type": "display_data",
       "text": [
        "PROGRESS: Finished parsing file /Users/xray1110/Google Drive/Courses/2014_fall/Intro to Data Science/project/data/overall_ratings_u20_b20.txt"
       ]
      },
      {
       "html": [
        "<pre>PROGRESS: Parsing completed. Parsed 1296590 lines in 0.726549 secs.</pre>"
       ],
       "metadata": {},
       "output_type": "display_data",
       "text": [
        "PROGRESS: Parsing completed. Parsed 1296590 lines in 0.726549 secs."
       ]
      },
      {
       "output_type": "stream",
       "stream": "stdout",
       "text": [
        "------------------------------------------------------\n",
        "Inferred types from first line of file as \n",
        "column_type_hints=[int,int,float]\n",
        "If parsing fails due to incorrect types, you can correct\n",
        "the inferred type list above and pass it to read_csv in\n",
        "the column_type_hints argument\n",
        "------------------------------------------------------\n"
       ]
      },
      {
       "html": [
        "<div style=\"max-height:1000px;max-width:1500px;overflow:auto;\"><table frame=\"box\" rules=\"cols\">\n",
        "    <tr>\n",
        "        <th style=\"padding-left: 1em; padding-right: 1em; text-align: center\">user_id</th>\n",
        "        <th style=\"padding-left: 1em; padding-right: 1em; text-align: center\">item_id</th>\n",
        "        <th style=\"padding-left: 1em; padding-right: 1em; text-align: center\">rating</th>\n",
        "    </tr>\n",
        "    <tr>\n",
        "        <td style=\"padding-left: 1em; padding-right: 1em; text-align: center; vertical-align: top\">15</td>\n",
        "        <td style=\"padding-left: 1em; padding-right: 1em; text-align: center; vertical-align: top\">58046</td>\n",
        "        <td style=\"padding-left: 1em; padding-right: 1em; text-align: center; vertical-align: top\">4.5</td>\n",
        "    </tr>\n",
        "    <tr>\n",
        "        <td style=\"padding-left: 1em; padding-right: 1em; text-align: center; vertical-align: top\">16</td>\n",
        "        <td style=\"padding-left: 1em; padding-right: 1em; text-align: center; vertical-align: top\">58046</td>\n",
        "        <td style=\"padding-left: 1em; padding-right: 1em; text-align: center; vertical-align: top\">4.0</td>\n",
        "    </tr>\n",
        "    <tr>\n",
        "        <td style=\"padding-left: 1em; padding-right: 1em; text-align: center; vertical-align: top\">17</td>\n",
        "        <td style=\"padding-left: 1em; padding-right: 1em; text-align: center; vertical-align: top\">58046</td>\n",
        "        <td style=\"padding-left: 1em; padding-right: 1em; text-align: center; vertical-align: top\">4.0</td>\n",
        "    </tr>\n",
        "    <tr>\n",
        "        <td style=\"padding-left: 1em; padding-right: 1em; text-align: center; vertical-align: top\">19</td>\n",
        "        <td style=\"padding-left: 1em; padding-right: 1em; text-align: center; vertical-align: top\">58046</td>\n",
        "        <td style=\"padding-left: 1em; padding-right: 1em; text-align: center; vertical-align: top\">4.0</td>\n",
        "    </tr>\n",
        "    <tr>\n",
        "        <td style=\"padding-left: 1em; padding-right: 1em; text-align: center; vertical-align: top\">20</td>\n",
        "        <td style=\"padding-left: 1em; padding-right: 1em; text-align: center; vertical-align: top\">58046</td>\n",
        "        <td style=\"padding-left: 1em; padding-right: 1em; text-align: center; vertical-align: top\">4.5</td>\n",
        "    </tr>\n",
        "    <tr>\n",
        "        <td style=\"padding-left: 1em; padding-right: 1em; text-align: center; vertical-align: top\">21</td>\n",
        "        <td style=\"padding-left: 1em; padding-right: 1em; text-align: center; vertical-align: top\">58046</td>\n",
        "        <td style=\"padding-left: 1em; padding-right: 1em; text-align: center; vertical-align: top\">5.0</td>\n",
        "    </tr>\n",
        "    <tr>\n",
        "        <td style=\"padding-left: 1em; padding-right: 1em; text-align: center; vertical-align: top\">22</td>\n",
        "        <td style=\"padding-left: 1em; padding-right: 1em; text-align: center; vertical-align: top\">58046</td>\n",
        "        <td style=\"padding-left: 1em; padding-right: 1em; text-align: center; vertical-align: top\">4.5</td>\n",
        "    </tr>\n",
        "    <tr>\n",
        "        <td style=\"padding-left: 1em; padding-right: 1em; text-align: center; vertical-align: top\">23</td>\n",
        "        <td style=\"padding-left: 1em; padding-right: 1em; text-align: center; vertical-align: top\">58046</td>\n",
        "        <td style=\"padding-left: 1em; padding-right: 1em; text-align: center; vertical-align: top\">4.5</td>\n",
        "    </tr>\n",
        "    <tr>\n",
        "        <td style=\"padding-left: 1em; padding-right: 1em; text-align: center; vertical-align: top\">24</td>\n",
        "        <td style=\"padding-left: 1em; padding-right: 1em; text-align: center; vertical-align: top\">58046</td>\n",
        "        <td style=\"padding-left: 1em; padding-right: 1em; text-align: center; vertical-align: top\">4.5</td>\n",
        "    </tr>\n",
        "    <tr>\n",
        "        <td style=\"padding-left: 1em; padding-right: 1em; text-align: center; vertical-align: top\">25</td>\n",
        "        <td style=\"padding-left: 1em; padding-right: 1em; text-align: center; vertical-align: top\">58046</td>\n",
        "        <td style=\"padding-left: 1em; padding-right: 1em; text-align: center; vertical-align: top\">4.5</td>\n",
        "    </tr>\n",
        "    <tr>\n",
        "        <td style=\"padding-left: 1em; padding-right: 1em; text-align: center; vertical-align: top\">...</td>\n",
        "        <td style=\"padding-left: 1em; padding-right: 1em; text-align: center; vertical-align: top\">...</td>\n",
        "        <td style=\"padding-left: 1em; padding-right: 1em; text-align: center; vertical-align: top\">...</td>\n",
        "    </tr>\n",
        "</table>\n",
        "[1296590 rows x 3 columns]<br/>Note: Only the head of the SFrame is printed.<br/>You can use print_rows(num_rows=m, num_columns=n) to print more rows and columns.\n",
        "</div>"
       ],
       "metadata": {},
       "output_type": "pyout",
       "prompt_number": 4,
       "text": [
        "Columns:\n",
        "\tuser_id\tint\n",
        "\titem_id\tint\n",
        "\trating\tfloat\n",
        "\n",
        "Rows: 1296590\n",
        "\n",
        "Data:\n",
        "+---------+---------+--------+\n",
        "| user_id | item_id | rating |\n",
        "+---------+---------+--------+\n",
        "|    15   |  58046  |  4.5   |\n",
        "|    16   |  58046  |  4.0   |\n",
        "|    17   |  58046  |  4.0   |\n",
        "|    19   |  58046  |  4.0   |\n",
        "|    20   |  58046  |  4.5   |\n",
        "|    21   |  58046  |  5.0   |\n",
        "|    22   |  58046  |  4.5   |\n",
        "|    23   |  58046  |  4.5   |\n",
        "|    24   |  58046  |  4.5   |\n",
        "|    25   |  58046  |  4.5   |\n",
        "|   ...   |   ...   |  ...   |\n",
        "+---------+---------+--------+\n",
        "[1296590 rows x 3 columns]\n",
        "Note: Only the head of the SFrame is printed.\n",
        "You can use print_rows(num_rows=m, num_columns=n) to print more rows and columns."
       ]
      }
     ],
     "prompt_number": 4
    },
    {
     "cell_type": "code",
     "collapsed": false,
     "input": [
      "train, test = gl.recommender.util.random_split_by_user(records, max_num_users=3000, random_seed=42)"
     ],
     "language": "python",
     "metadata": {},
     "outputs": [],
     "prompt_number": 6
    },
    {
     "cell_type": "code",
     "collapsed": false,
     "input": [
      "print 'Number of training reviews: {}'.format(len(train))\n",
      "print 'Number of test reviews: {}'.format(len(test))"
     ],
     "language": "python",
     "metadata": {},
     "outputs": [
      {
       "output_type": "stream",
       "stream": "stdout",
       "text": [
        "Number of training reviews: 1196656\n",
        "Number of test reviews: 99934\n"
       ]
      }
     ],
     "prompt_number": 7
    },
    {
     "cell_type": "markdown",
     "metadata": {},
     "source": [
      "--------\n",
      "**Item similarity model selection**\n",
      "--------"
     ]
    },
    {
     "cell_type": "markdown",
     "metadata": {},
     "source": [
      "*Three different similarity measures are compared: jaccard, cosine, and pearson*"
     ]
    },
    {
     "cell_type": "code",
     "collapsed": false,
     "input": [
      "jac = []\n",
      "cos = []\n",
      "pea = []\n",
      "i = 1\n",
      "for k in [150, 250, 500]:\n",
      "    isr_jac = gl.recommender.item_similarity_recommender.create(train, target='rating', only_top_k=k, verbose=False)\n",
      "    isr_cos = gl.recommender.item_similarity_recommender.create(train, target='rating', only_top_k=k, similarity_type='cosine', verbose=False)\n",
      "    isr_pea = gl.recommender.item_similarity_recommender.create(train, target='rating', only_top_k=k, similarity_type='pearson', verbose=False)\n",
      "    jac.append(isr_jac.evaluate_rmse(test, target='rating')['rmse_overall'])\n",
      "    cos.append(isr_cos.evaluate_rmse(test, target='rating')['rmse_overall'])\n",
      "    pea.append(isr_pea.evaluate_rmse(test, target='rating')['rmse_overall'])\n",
      "    print i\n",
      "    i += 1"
     ],
     "language": "python",
     "metadata": {},
     "outputs": [
      {
       "html": [
        "<pre>PROGRESS: Recsys training: model = item_similarity</pre>"
       ],
       "metadata": {},
       "output_type": "display_data",
       "text": [
        "PROGRESS: Recsys training: model = item_similarity"
       ]
      },
      {
       "html": [
        "<pre>PROGRESS: Recsys training: model = item_similarity</pre>"
       ],
       "metadata": {},
       "output_type": "display_data",
       "text": [
        "PROGRESS: Recsys training: model = item_similarity"
       ]
      },
      {
       "html": [
        "<pre>PROGRESS: Recsys training: model = item_similarity</pre>"
       ],
       "metadata": {},
       "output_type": "display_data",
       "text": [
        "PROGRESS: Recsys training: model = item_similarity"
       ]
      },
      {
       "html": [
        "<pre>PROGRESS: Finished prediction in 0.403956s</pre>"
       ],
       "metadata": {},
       "output_type": "display_data",
       "text": [
        "PROGRESS: Finished prediction in 0.403956s"
       ]
      },
      {
       "html": [
        "<pre>PROGRESS: Finished prediction in 0.466561s</pre>"
       ],
       "metadata": {},
       "output_type": "display_data",
       "text": [
        "PROGRESS: Finished prediction in 0.466561s"
       ]
      },
      {
       "html": [
        "<pre>PROGRESS: Finished prediction in 0.424879s</pre>"
       ],
       "metadata": {},
       "output_type": "display_data",
       "text": [
        "PROGRESS: Finished prediction in 0.424879s"
       ]
      },
      {
       "html": [
        "<pre>PROGRESS: Recsys training: model = item_similarity</pre>"
       ],
       "metadata": {},
       "output_type": "display_data",
       "text": [
        "PROGRESS: Recsys training: model = item_similarity"
       ]
      },
      {
       "html": [
        "<pre>PROGRESS: Recsys training: model = item_similarity</pre>"
       ],
       "metadata": {},
       "output_type": "display_data",
       "text": [
        "PROGRESS: Recsys training: model = item_similarity"
       ]
      },
      {
       "html": [
        "<pre>PROGRESS: Recsys training: model = item_similarity</pre>"
       ],
       "metadata": {},
       "output_type": "display_data",
       "text": [
        "PROGRESS: Recsys training: model = item_similarity"
       ]
      },
      {
       "html": [
        "<pre>PROGRESS: Finished prediction in 0.46635s</pre>"
       ],
       "metadata": {},
       "output_type": "display_data",
       "text": [
        "PROGRESS: Finished prediction in 0.46635s"
       ]
      },
      {
       "html": [
        "<pre>PROGRESS: Finished prediction in 0.479879s</pre>"
       ],
       "metadata": {},
       "output_type": "display_data",
       "text": [
        "PROGRESS: Finished prediction in 0.479879s"
       ]
      },
      {
       "html": [
        "<pre>PROGRESS: Finished prediction in 0.472329s</pre>"
       ],
       "metadata": {},
       "output_type": "display_data",
       "text": [
        "PROGRESS: Finished prediction in 0.472329s"
       ]
      },
      {
       "output_type": "stream",
       "stream": "stdout",
       "text": [
        "1\n",
        "2"
       ]
      },
      {
       "html": [
        "<pre>PROGRESS: Recsys training: model = item_similarity</pre>"
       ],
       "metadata": {},
       "output_type": "display_data",
       "text": [
        "PROGRESS: Recsys training: model = item_similarity"
       ]
      },
      {
       "html": [
        "<pre>PROGRESS: Recsys training: model = item_similarity</pre>"
       ],
       "metadata": {},
       "output_type": "display_data",
       "text": [
        "PROGRESS: Recsys training: model = item_similarity"
       ]
      },
      {
       "html": [
        "<pre>PROGRESS: Recsys training: model = item_similarity</pre>"
       ],
       "metadata": {},
       "output_type": "display_data",
       "text": [
        "PROGRESS: Recsys training: model = item_similarity"
       ]
      },
      {
       "html": [
        "<pre>PROGRESS: Finished prediction in 0.587549s</pre>"
       ],
       "metadata": {},
       "output_type": "display_data",
       "text": [
        "PROGRESS: Finished prediction in 0.587549s"
       ]
      },
      {
       "html": [
        "<pre>PROGRESS: Finished prediction in 0.580716s</pre>"
       ],
       "metadata": {},
       "output_type": "display_data",
       "text": [
        "PROGRESS: Finished prediction in 0.580716s"
       ]
      },
      {
       "html": [
        "<pre>PROGRESS: Finished prediction in 0.599501s</pre>"
       ],
       "metadata": {},
       "output_type": "display_data",
       "text": [
        "PROGRESS: Finished prediction in 0.599501s"
       ]
      },
      {
       "output_type": "stream",
       "stream": "stdout",
       "text": [
        "\n",
        "3"
       ]
      },
      {
       "output_type": "stream",
       "stream": "stdout",
       "text": [
        "\n"
       ]
      }
     ],
     "prompt_number": 8
    },
    {
     "cell_type": "code",
     "collapsed": false,
     "input": [
      "j=[0.6824115563737343,\n",
      " 0.6739120601007045,\n",
      " 0.6621396972380192,\n",
      " 0.6509919669686964,\n",
      " 0.6449497401108945]"
     ],
     "language": "python",
     "metadata": {},
     "outputs": [],
     "prompt_number": 10
    },
    {
     "cell_type": "code",
     "collapsed": false,
     "input": [
      "c=[0.6864006554589612,\n",
      " 0.678249439911804,\n",
      " 0.6679753506526755,\n",
      " 0.6565043434825039,\n",
      " 0.6535780498947504]"
     ],
     "language": "python",
     "metadata": {},
     "outputs": [],
     "prompt_number": 11
    },
    {
     "cell_type": "code",
     "collapsed": false,
     "input": [
      "p=[0.6372561899452359,\n",
      " 0.6465392068673985,\n",
      " 0.6488590947792159,\n",
      " 0.6391900290092201,\n",
      " 0.6227768746204768]"
     ],
     "language": "python",
     "metadata": {},
     "outputs": [],
     "prompt_number": 12
    },
    {
     "cell_type": "code",
     "collapsed": false,
     "input": [
      "for i in xrange(3):\n",
      "    j.append(jac[i])\n",
      "    c.append(cos[i])\n",
      "    p.append(pea[i])"
     ],
     "language": "python",
     "metadata": {},
     "outputs": [],
     "prompt_number": 13
    },
    {
     "cell_type": "code",
     "collapsed": false,
     "input": [
      "p"
     ],
     "language": "python",
     "metadata": {},
     "outputs": [
      {
       "metadata": {},
       "output_type": "pyout",
       "prompt_number": 29,
       "text": [
        "[0.6372561899452359,\n",
        " 0.6465392068673985,\n",
        " 0.6488590947792159,\n",
        " 0.6391900290092201,\n",
        " 0.6227768746204768,\n",
        " 0.61282479136662,\n",
        " 0.5997120126801226,\n",
        " 0.5862699668521265]"
       ]
      }
     ],
     "prompt_number": 29
    },
    {
     "cell_type": "markdown",
     "metadata": {},
     "source": [
      "-----\n",
      "Factorization model selection\n",
      "------\n",
      "*compare models with regularization terms ranging from 1e-8 to 0.1*"
     ]
    },
    {
     "cell_type": "code",
     "collapsed": false,
     "input": [
      "regs = [10**x for x in xrange(-8, 1)]"
     ],
     "language": "python",
     "metadata": {},
     "outputs": [],
     "prompt_number": 14
    },
    {
     "cell_type": "code",
     "collapsed": false,
     "input": [
      "frs = []"
     ],
     "language": "python",
     "metadata": {},
     "outputs": [],
     "prompt_number": 15
    },
    {
     "cell_type": "code",
     "collapsed": false,
     "input": [
      "for reg in regs:\n",
      "    frs.append(gl.recommender.factorization_recommender.create(train, target='rating', regularization=reg, verbose=False))\n",
      "    print 'regularization term: {}'.format(reg)"
     ],
     "language": "python",
     "metadata": {},
     "outputs": [
      {
       "html": [
        "<pre>PROGRESS: Recsys training: model = factorization_recommender</pre>"
       ],
       "metadata": {},
       "output_type": "display_data",
       "text": [
        "PROGRESS: Recsys training: model = factorization_recommender"
       ]
      }
     ]
    },
    {
     "cell_type": "code",
     "collapsed": false,
     "input": [
      "rmses = []\n",
      "for fr in frs:\n",
      "    rmses.append(fr.evaluate_rmse(test, target='rating')['rmse_overall'])"
     ],
     "language": "python",
     "metadata": {},
     "outputs": [],
     "prompt_number": 33
    },
    {
     "cell_type": "code",
     "collapsed": false,
     "input": [
      "rmses"
     ],
     "language": "python",
     "metadata": {},
     "outputs": [
      {
       "metadata": {},
       "output_type": "pyout",
       "prompt_number": 34,
       "text": [
        "[0.6227452938140363,\n",
        " 0.623692771954922,\n",
        " 0.6146574469905269,\n",
        " 0.5753313693401505,\n",
        " 0.5813748430326813,\n",
        " 0.6001508261175551,\n",
        " 0.655997155750735,\n",
        " 0.6947514649885406,\n",
        " 0.7014315592143561]"
       ]
      }
     ],
     "prompt_number": 34
    },
    {
     "cell_type": "code",
     "collapsed": false,
     "input": [],
     "language": "python",
     "metadata": {},
     "outputs": []
    },
    {
     "cell_type": "markdown",
     "metadata": {},
     "source": [
      "----\n",
      "Ranking Factorization model\n",
      "----\n",
      "*similar to Factorization model with minor modification towards ranking*"
     ]
    },
    {
     "cell_type": "code",
     "collapsed": false,
     "input": [
      "rfr = gl.recommender.create(train, target='rating', verbose=False)"
     ],
     "language": "python",
     "metadata": {},
     "outputs": [
      {
       "html": [
        "<pre>PROGRESS: Recsys training: model = ranking_factorization_recommender</pre>"
       ],
       "metadata": {},
       "output_type": "display_data",
       "text": [
        "PROGRESS: Recsys training: model = ranking_factorization_recommender"
       ]
      },
      {
       "html": [
        "<pre>PROGRESS: Preparing data set.</pre>"
       ],
       "metadata": {},
       "output_type": "display_data",
       "text": [
        "PROGRESS: Preparing data set."
       ]
      },
      {
       "html": [
        "<pre>PROGRESS:     Data has 1196328 observations with 7706 users and 9186 items.</pre>"
       ],
       "metadata": {},
       "output_type": "display_data",
       "text": [
        "PROGRESS:     Data has 1196328 observations with 7706 users and 9186 items."
       ]
      },
      {
       "html": [
        "<pre>PROGRESS:     Data prepared in: 1.77861s</pre>"
       ],
       "metadata": {},
       "output_type": "display_data",
       "text": [
        "PROGRESS:     Data prepared in: 1.77861s"
       ]
      },
      {
       "html": [
        "<pre>PROGRESS: Training ranking_factorization_recommender for recommendations.</pre>"
       ],
       "metadata": {},
       "output_type": "display_data",
       "text": [
        "PROGRESS: Training ranking_factorization_recommender for recommendations."
       ]
      },
      {
       "html": [
        "<pre>PROGRESS: +------------------------------+--------------------------------------------------+----------+</pre>"
       ],
       "metadata": {},
       "output_type": "display_data",
       "text": [
        "PROGRESS: +------------------------------+--------------------------------------------------+----------+"
       ]
      },
      {
       "html": [
        "<pre>PROGRESS: | Parameter                    | Description                                      | Value    |</pre>"
       ],
       "metadata": {},
       "output_type": "display_data",
       "text": [
        "PROGRESS: | Parameter                    | Description                                      | Value    |"
       ]
      },
      {
       "html": [
        "<pre>PROGRESS: +------------------------------+--------------------------------------------------+----------+</pre>"
       ],
       "metadata": {},
       "output_type": "display_data",
       "text": [
        "PROGRESS: +------------------------------+--------------------------------------------------+----------+"
       ]
      },
      {
       "html": [
        "<pre>PROGRESS: | num_factors                  | Factor Dimension                                 | 8        |</pre>"
       ],
       "metadata": {},
       "output_type": "display_data",
       "text": [
        "PROGRESS: | num_factors                  | Factor Dimension                                 | 8        |"
       ]
      },
      {
       "html": [
        "<pre>PROGRESS: | regularization               | L2 Regularization on Factors                     | 0        |</pre>"
       ],
       "metadata": {},
       "output_type": "display_data",
       "text": [
        "PROGRESS: | regularization               | L2 Regularization on Factors                     | 0        |"
       ]
      },
      {
       "html": [
        "<pre>PROGRESS: | ranking_regularization       | Rank-based Regularization Weight                 | 0.25     |</pre>"
       ],
       "metadata": {},
       "output_type": "display_data",
       "text": [
        "PROGRESS: | ranking_regularization       | Rank-based Regularization Weight                 | 0.25     |"
       ]
      },
      {
       "html": [
        "<pre>PROGRESS: | max_iterations               | Maximum Number of Iterations                     | 50       |</pre>"
       ],
       "metadata": {},
       "output_type": "display_data",
       "text": [
        "PROGRESS: | max_iterations               | Maximum Number of Iterations                     | 50       |"
       ]
      },
      {
       "html": [
        "<pre>PROGRESS: +------------------------------+--------------------------------------------------+----------+</pre>"
       ],
       "metadata": {},
       "output_type": "display_data",
       "text": [
        "PROGRESS: +------------------------------+--------------------------------------------------+----------+"
       ]
      },
      {
       "html": [
        "<pre>PROGRESS:   Optimizing model using SGD; tuning step size.</pre>"
       ],
       "metadata": {},
       "output_type": "display_data",
       "text": [
        "PROGRESS:   Optimizing model using SGD; tuning step size."
       ]
      },
      {
       "html": [
        "<pre>PROGRESS:   Using 59816 / 1196328 points for tuning the step size.</pre>"
       ],
       "metadata": {},
       "output_type": "display_data",
       "text": [
        "PROGRESS:   Using 59816 / 1196328 points for tuning the step size."
       ]
      },
      {
       "html": [
        "<pre>PROGRESS: +---------+-------------------+---------------------------+</pre>"
       ],
       "metadata": {},
       "output_type": "display_data",
       "text": [
        "PROGRESS: +---------+-------------------+---------------------------+"
       ]
      },
      {
       "html": [
        "<pre>PROGRESS: | Attempt | Initial Step Size | Estimated Objective Value |</pre>"
       ],
       "metadata": {},
       "output_type": "display_data",
       "text": [
        "PROGRESS: | Attempt | Initial Step Size | Estimated Objective Value |"
       ]
      },
      {
       "html": [
        "<pre>PROGRESS: +---------+-------------------+---------------------------+</pre>"
       ],
       "metadata": {},
       "output_type": "display_data",
       "text": [
        "PROGRESS: +---------+-------------------+---------------------------+"
       ]
      },
      {
       "html": [
        "<pre>PROGRESS: | 0       | 25                | Not Viable                |</pre>"
       ],
       "metadata": {},
       "output_type": "display_data",
       "text": [
        "PROGRESS: | 0       | 25                | Not Viable                |"
       ]
      },
      {
       "html": [
        "<pre>PROGRESS: | 1       | 6.25              | Not Viable                |</pre>"
       ],
       "metadata": {},
       "output_type": "display_data",
       "text": [
        "PROGRESS: | 1       | 6.25              | Not Viable                |"
       ]
      },
      {
       "html": [
        "<pre>PROGRESS: | 2       | 1.5625            | Not Viable                |</pre>"
       ],
       "metadata": {},
       "output_type": "display_data",
       "text": [
        "PROGRESS: | 2       | 1.5625            | Not Viable                |"
       ]
      },
      {
       "html": [
        "<pre>PROGRESS: | 3       | 0.390625          | Not Viable                |</pre>"
       ],
       "metadata": {},
       "output_type": "display_data",
       "text": [
        "PROGRESS: | 3       | 0.390625          | Not Viable                |"
       ]
      },
      {
       "html": [
        "<pre>PROGRESS: | 4       | 0.0976562         | 0.919527                  |</pre>"
       ],
       "metadata": {},
       "output_type": "display_data",
       "text": [
        "PROGRESS: | 4       | 0.0976562         | 0.919527                  |"
       ]
      },
      {
       "html": [
        "<pre>PROGRESS: | 5       | 0.0488281         | 1.65545                   |</pre>"
       ],
       "metadata": {},
       "output_type": "display_data",
       "text": [
        "PROGRESS: | 5       | 0.0488281         | 1.65545                   |"
       ]
      },
      {
       "html": [
        "<pre>PROGRESS: | 6       | 0.0244141         | 1.28585                   |</pre>"
       ],
       "metadata": {},
       "output_type": "display_data",
       "text": [
        "PROGRESS: | 6       | 0.0244141         | 1.28585                   |"
       ]
      },
      {
       "html": [
        "<pre>PROGRESS: | 7       | 0.012207          | 0.707912                  |</pre>"
       ],
       "metadata": {},
       "output_type": "display_data",
       "text": [
        "PROGRESS: | 7       | 0.012207          | 0.707912                  |"
       ]
      },
      {
       "html": [
        "<pre>PROGRESS: | 8       | 0.00610352        | 0.725065                  |</pre>"
       ],
       "metadata": {},
       "output_type": "display_data",
       "text": [
        "PROGRESS: | 8       | 0.00610352        | 0.725065                  |"
       ]
      },
      {
       "html": [
        "<pre>PROGRESS: | 9       | 0.00305176        | 0.730966                  |</pre>"
       ],
       "metadata": {},
       "output_type": "display_data",
       "text": [
        "PROGRESS: | 9       | 0.00305176        | 0.730966                  |"
       ]
      },
      {
       "html": [
        "<pre>PROGRESS: | 10      | 0.00152588        | 0.746121                  |</pre>"
       ],
       "metadata": {},
       "output_type": "display_data",
       "text": [
        "PROGRESS: | 10      | 0.00152588        | 0.746121                  |"
       ]
      },
      {
       "html": [
        "<pre>PROGRESS: +---------+-------------------+---------------------------+</pre>"
       ],
       "metadata": {},
       "output_type": "display_data",
       "text": [
        "PROGRESS: +---------+-------------------+---------------------------+"
       ]
      },
      {
       "html": [
        "<pre>PROGRESS: | Final   | 0.012207          | 0.707912                  |</pre>"
       ],
       "metadata": {},
       "output_type": "display_data",
       "text": [
        "PROGRESS: | Final   | 0.012207          | 0.707912                  |"
       ]
      },
      {
       "html": [
        "<pre>PROGRESS: +---------+-------------------+---------------------------+</pre>"
       ],
       "metadata": {},
       "output_type": "display_data",
       "text": [
        "PROGRESS: +---------+-------------------+---------------------------+"
       ]
      },
      {
       "html": [
        "<pre>PROGRESS: Starting Optimization.</pre>"
       ],
       "metadata": {},
       "output_type": "display_data",
       "text": [
        "PROGRESS: Starting Optimization."
       ]
      },
      {
       "html": [
        "<pre>PROGRESS: +---------+--------------+----------------+---------------+-------------+</pre>"
       ],
       "metadata": {},
       "output_type": "display_data",
       "text": [
        "PROGRESS: +---------+--------------+----------------+---------------+-------------+"
       ]
      },
      {
       "html": [
        "<pre>PROGRESS: | Iter.   | Elapsed Time | Est. Objective | Training RMSE | Step Size   |</pre>"
       ],
       "metadata": {},
       "output_type": "display_data",
       "text": [
        "PROGRESS: | Iter.   | Elapsed Time | Est. Objective | Training RMSE | Step Size   |"
       ]
      },
      {
       "html": [
        "<pre>PROGRESS: +---------+--------------+----------------+---------------+-------------+</pre>"
       ],
       "metadata": {},
       "output_type": "display_data",
       "text": [
        "PROGRESS: +---------+--------------+----------------+---------------+-------------+"
       ]
      },
      {
       "html": [
        "<pre>PROGRESS: | Initial | 2.171ms      | 0.959325       | 0.699463      |             |</pre>"
       ],
       "metadata": {},
       "output_type": "display_data",
       "text": [
        "PROGRESS: | Initial | 2.171ms      | 0.959325       | 0.699463      |             |"
       ]
      },
      {
       "html": [
        "<pre>PROGRESS: +---------+--------------+----------------+---------------+-------------+</pre>"
       ],
       "metadata": {},
       "output_type": "display_data",
       "text": [
        "PROGRESS: +---------+--------------+----------------+---------------+-------------+"
       ]
      },
      {
       "html": [
        "<pre>PROGRESS: | 1       | 519.734ms    | 0.757766       | 0.692471      | 0.012207    |</pre>"
       ],
       "metadata": {},
       "output_type": "display_data",
       "text": [
        "PROGRESS: | 1       | 519.734ms    | 0.757766       | 0.692471      | 0.012207    |"
       ]
      },
      {
       "html": [
        "<pre>PROGRESS: | 5       | 3.52s        | 0.733254       | 0.67389       | 0.00365075  |</pre>"
       ],
       "metadata": {},
       "output_type": "display_data",
       "text": [
        "PROGRESS: | 5       | 3.52s        | 0.733254       | 0.67389       | 0.00365075  |"
       ]
      },
      {
       "html": [
        "<pre>PROGRESS: | 10      | 7.81s        | 0.727908       | 0.671402      | 0.00217075  |</pre>"
       ],
       "metadata": {},
       "output_type": "display_data",
       "text": [
        "PROGRESS: | 10      | 7.81s        | 0.727908       | 0.671402      | 0.00217075  |"
       ]
      },
      {
       "html": [
        "<pre>PROGRESS: | 15      | 12.08s       | 0.71775        | 0.666737      | 0.00160155  |</pre>"
       ],
       "metadata": {},
       "output_type": "display_data",
       "text": [
        "PROGRESS: | 15      | 12.08s       | 0.71775        | 0.666737      | 0.00160155  |"
       ]
      },
      {
       "html": [
        "<pre>PROGRESS: | 20      | 16.42s       | 0.708343       | 0.663029      | 0.00129074  |</pre>"
       ],
       "metadata": {},
       "output_type": "display_data",
       "text": [
        "PROGRESS: | 20      | 16.42s       | 0.708343       | 0.663029      | 0.00129074  |"
       ]
      },
      {
       "html": [
        "<pre>PROGRESS: | 25      | 20.71s       | 0.700291       | 0.659388      | 0.00109183  |</pre>"
       ],
       "metadata": {},
       "output_type": "display_data",
       "text": [
        "PROGRESS: | 25      | 20.71s       | 0.700291       | 0.659388      | 0.00109183  |"
       ]
      },
      {
       "html": [
        "<pre>PROGRESS: | 30      | 25.06s       | 0.694323       | 0.65646       | 0.00095229  |</pre>"
       ],
       "metadata": {},
       "output_type": "display_data",
       "text": [
        "PROGRESS: | 30      | 25.06s       | 0.694323       | 0.65646       | 0.00095229  |"
       ]
      },
      {
       "html": [
        "<pre>PROGRESS: | 35      | 29.28s       | 0.688721       | 0.653996      | 0.000848319 |</pre>"
       ],
       "metadata": {},
       "output_type": "display_data",
       "text": [
        "PROGRESS: | 35      | 29.28s       | 0.688721       | 0.653996      | 0.000848319 |"
       ]
      },
      {
       "html": [
        "<pre>PROGRESS: | 40      | 33.54s       | 0.683193       | 0.651681      | 0.000767476 |</pre>"
       ],
       "metadata": {},
       "output_type": "display_data",
       "text": [
        "PROGRESS: | 40      | 33.54s       | 0.683193       | 0.651681      | 0.000767476 |"
       ]
      },
      {
       "html": [
        "<pre>PROGRESS: | 45      | 38.23s       | 0.67789        | 0.64947       | 0.000702588 |</pre>"
       ],
       "metadata": {},
       "output_type": "display_data",
       "text": [
        "PROGRESS: | 45      | 38.23s       | 0.67789        | 0.64947       | 0.000702588 |"
       ]
      },
      {
       "html": [
        "<pre>PROGRESS: | 50      | 42.56s       | 0.673562       | 0.647477      | 0.000649206 |</pre>"
       ],
       "metadata": {},
       "output_type": "display_data",
       "text": [
        "PROGRESS: | 50      | 42.56s       | 0.673562       | 0.647477      | 0.000649206 |"
       ]
      },
      {
       "html": [
        "<pre>PROGRESS: +---------+--------------+----------------+---------------+-------------+</pre>"
       ],
       "metadata": {},
       "output_type": "display_data",
       "text": [
        "PROGRESS: +---------+--------------+----------------+---------------+-------------+"
       ]
      },
      {
       "html": [
        "<pre>PROGRESS: | Final   | 43.34s       | 0.807864       | 0.615284      |             |</pre>"
       ],
       "metadata": {},
       "output_type": "display_data",
       "text": [
        "PROGRESS: | Final   | 43.34s       | 0.807864       | 0.615284      |             |"
       ]
      },
      {
       "html": [
        "<pre>PROGRESS: +---------+--------------+----------------+---------------+-------------+</pre>"
       ],
       "metadata": {},
       "output_type": "display_data",
       "text": [
        "PROGRESS: +---------+--------------+----------------+---------------+-------------+"
       ]
      },
      {
       "html": [
        "<pre>PROGRESS: Optimization Complete: Maximum number of passes through the data reached.</pre>"
       ],
       "metadata": {},
       "output_type": "display_data",
       "text": [
        "PROGRESS: Optimization Complete: Maximum number of passes through the data reached."
       ]
      }
     ],
     "prompt_number": 23
    },
    {
     "cell_type": "code",
     "collapsed": false,
     "input": [
      "rfr.evaluate_rmse(test, target='rating')['rmse_overall']"
     ],
     "language": "python",
     "metadata": {},
     "outputs": [
      {
       "metadata": {},
       "output_type": "pyout",
       "prompt_number": 24,
       "text": [
        "{'rmse_by_item': Columns:\n",
        " \titem_id\tint\n",
        " \tcount\tint\n",
        " \trmse\tfloat\n",
        " \n",
        " Rows: 8766\n",
        " \n",
        " Data:\n",
        " +---------+-------+----------------+\n",
        " | item_id | count |      rmse      |\n",
        " +---------+-------+----------------+\n",
        " |  30727  |   8   | 0.849153393008 |\n",
        " |   6769  |   2   |  1.0899194558  |\n",
        " |   5684  |   1   | 0.325420489711 |\n",
        " |  42728  |   9   | 0.555678969833 |\n",
        " |  66397  |   5   | 0.382749403919 |\n",
        " |   2779  |   33  | 0.763827544492 |\n",
        " |   8455  |   1   | 1.17522642651  |\n",
        " |  36992  |   6   | 0.723462749925 |\n",
        " |  10273  |   7   | 0.449642722194 |\n",
        " |  33926  |   4   | 0.721326109971 |\n",
        " |   ...   |  ...  |      ...       |\n",
        " +---------+-------+----------------+\n",
        " [8766 rows x 3 columns]\n",
        " Note: Only the head of the SFrame is printed.\n",
        " You can use print_rows(num_rows=m, num_columns=n) to print more rows and columns.,\n",
        " 'rmse_by_user': Columns:\n",
        " \tuser_id\tint\n",
        " \tcount\tint\n",
        " \trmse\tfloat\n",
        " \n",
        " Rows: 2991\n",
        " \n",
        " Data:\n",
        " +---------+-------+----------------+\n",
        " | user_id | count |      rmse      |\n",
        " +---------+-------+----------------+\n",
        " |   7899  |   9   | 0.443523249503 |\n",
        " |  13050  |   5   | 0.751854986266 |\n",
        " |  14515  |   5   | 0.748997688171 |\n",
        " |  10273  |   4   | 0.379531423579 |\n",
        " |   5783  |   5   | 1.18672349194  |\n",
        " |   2871  |   5   | 0.592233234978 |\n",
        " |  17938  |   4   | 0.933654253284 |\n",
        " |   435   |   28  | 0.421664321403 |\n",
        " |   7308  |   16  | 0.846862741171 |\n",
        " |   5302  |   13  | 0.965142294993 |\n",
        " |   ...   |  ...  |      ...       |\n",
        " +---------+-------+----------------+\n",
        " [2991 rows x 3 columns]\n",
        " Note: Only the head of the SFrame is printed.\n",
        " You can use print_rows(num_rows=m, num_columns=n) to print more rows and columns.,\n",
        " 'rmse_overall': 0.6316062921371378}"
       ]
      }
     ],
     "prompt_number": 24
    },
    {
     "cell_type": "markdown",
     "metadata": {},
     "source": [
      "----\n",
      "Popularity model\n",
      "----\n",
      "*recommend items with most reviews, user independent recommendation*"
     ]
    },
    {
     "cell_type": "code",
     "collapsed": false,
     "input": [
      "pr = gl.recommender.popularity_recommender.create(train, target='rating', verbose=False)"
     ],
     "language": "python",
     "metadata": {},
     "outputs": [
      {
       "html": [
        "<pre>PROGRESS: Recsys training: model = popularity</pre>"
       ],
       "metadata": {},
       "output_type": "display_data",
       "text": [
        "PROGRESS: Recsys training: model = popularity"
       ]
      }
     ],
     "prompt_number": 21
    },
    {
     "cell_type": "code",
     "collapsed": false,
     "input": [
      "pr.evaluate_rmse(test, target='rating')['rmse_overall']"
     ],
     "language": "python",
     "metadata": {},
     "outputs": [
      {
       "metadata": {},
       "output_type": "pyout",
       "prompt_number": 22,
       "text": [
        "0.6049080981708876"
       ]
      }
     ],
     "prompt_number": 22
    },
    {
     "cell_type": "code",
     "collapsed": false,
     "input": [
      "train.save('train_u20_b20.csv', format='csv')\n",
      "test.save('test_u20_b20.csv', format='csv')"
     ],
     "language": "python",
     "metadata": {},
     "outputs": [],
     "prompt_number": 28
    },
    {
     "cell_type": "code",
     "collapsed": false,
     "input": [],
     "language": "python",
     "metadata": {},
     "outputs": []
    }
   ],
   "metadata": {}
  }
 ]
}